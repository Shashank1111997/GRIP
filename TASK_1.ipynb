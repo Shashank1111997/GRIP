{
 "cells": [
  {
   "cell_type": "markdown",
   "id": "0f6bec12",
   "metadata": {},
   "source": [
    "# GRIP: THE SPARKS FOUNDATION\n",
    "## Data Science and Business Analytics Internship\n",
    "##### Submitted by Shashank Choudhary \n",
    "#####    \n",
    "### Task1: Prediction Using Supervised ML"
   ]
  },
  {
   "cell_type": "markdown",
   "id": "a9e20c8e",
   "metadata": {},
   "source": [
    "##### Importing Libraries"
   ]
  },
  {
   "cell_type": "code",
   "execution_count": 1,
   "id": "363b987d",
   "metadata": {},
   "outputs": [],
   "source": [
    "import pandas as pd\n",
    "import numpy as np\n",
    "import matplotlib.pyplot as plt"
   ]
  },
  {
   "cell_type": "markdown",
   "id": "142057a6",
   "metadata": {},
   "source": [
    "##### Reading .csv file with the link and creating the DataFrame"
   ]
  },
  {
   "cell_type": "code",
   "execution_count": 2,
   "id": "26e6b77d",
   "metadata": {},
   "outputs": [
    {
     "data": {
      "text/html": [
       "<div>\n",
       "<style scoped>\n",
       "    .dataframe tbody tr th:only-of-type {\n",
       "        vertical-align: middle;\n",
       "    }\n",
       "\n",
       "    .dataframe tbody tr th {\n",
       "        vertical-align: top;\n",
       "    }\n",
       "\n",
       "    .dataframe thead th {\n",
       "        text-align: right;\n",
       "    }\n",
       "</style>\n",
       "<table border=\"1\" class=\"dataframe\">\n",
       "  <thead>\n",
       "    <tr style=\"text-align: right;\">\n",
       "      <th></th>\n",
       "      <th>Hours</th>\n",
       "      <th>Scores</th>\n",
       "    </tr>\n",
       "  </thead>\n",
       "  <tbody>\n",
       "    <tr>\n",
       "      <th>0</th>\n",
       "      <td>2.5</td>\n",
       "      <td>21</td>\n",
       "    </tr>\n",
       "    <tr>\n",
       "      <th>1</th>\n",
       "      <td>5.1</td>\n",
       "      <td>47</td>\n",
       "    </tr>\n",
       "    <tr>\n",
       "      <th>2</th>\n",
       "      <td>3.2</td>\n",
       "      <td>27</td>\n",
       "    </tr>\n",
       "    <tr>\n",
       "      <th>3</th>\n",
       "      <td>8.5</td>\n",
       "      <td>75</td>\n",
       "    </tr>\n",
       "    <tr>\n",
       "      <th>4</th>\n",
       "      <td>3.5</td>\n",
       "      <td>30</td>\n",
       "    </tr>\n",
       "  </tbody>\n",
       "</table>\n",
       "</div>"
      ],
      "text/plain": [
       "   Hours  Scores\n",
       "0    2.5      21\n",
       "1    5.1      47\n",
       "2    3.2      27\n",
       "3    8.5      75\n",
       "4    3.5      30"
      ]
     },
     "execution_count": 2,
     "metadata": {},
     "output_type": "execute_result"
    }
   ],
   "source": [
    "df = pd.read_csv(\"http://bit.ly/w-data\")\n",
    "df.head()"
   ]
  },
  {
   "cell_type": "markdown",
   "id": "eb9a99d4",
   "metadata": {},
   "source": [
    "##### Plotting the DataFrame"
   ]
  },
  {
   "cell_type": "code",
   "execution_count": 3,
   "id": "89a4ac32",
   "metadata": {},
   "outputs": [
    {
     "data": {
      "text/plain": [
       "<matplotlib.collections.PathCollection at 0x7fc678119e20>"
      ]
     },
     "execution_count": 3,
     "metadata": {},
     "output_type": "execute_result"
    },
    {
     "data": {
      "image/png": "[encoded data removed]",
      "text/plain": [
       "<Figure size 504x504 with 1 Axes>"
      ]
     },
     "metadata": {},
     "output_type": "display_data"
    }
   ],
   "source": [
    "plt.style.use('seaborn')\n",
    "plt.figure(figsize=(7,7))\n",
    "plt.scatter(df['Scores'],df['Hours'])"
   ]
  },
  {
   "cell_type": "markdown",
   "id": "4b2185a9",
   "metadata": {},
   "source": [
    "##### Linear Regression implimentation."
   ]
  },
  {
   "cell_type": "code",
   "execution_count": 4,
   "id": "b1b72866",
   "metadata": {},
   "outputs": [],
   "source": [
    "def hypothesis(x,theta):\n",
    "    y_ = theta[0] + theta[1]*x\n",
    "    return y_\n",
    "\n",
    "def gradient(x,y,theta):\n",
    "    m = x.shape[0]\n",
    "    grad = np.zeros((2,))\n",
    "    for i in range(m):\n",
    "        y_= hypothesis(x[i],theta)\n",
    "        grad[0]+=(y_-y[i])\n",
    "        grad[1]+=(y_-y[i])*x[i]\n",
    "    return grad/m\n",
    "\n",
    "def error(x,y,theta):\n",
    "    m = x.shape[0]\n",
    "    tE = 0.0\n",
    "    for i in range(m):\n",
    "        y_ = hypothesis(x[i],theta)\n",
    "        tE+=(y_-y[i])**2\n",
    "    return tE/m\n",
    "\n",
    "def gradientDecent(x,y,lr=0.1,max_step=100):\n",
    "    theta = np.zeros((2,))\n",
    "    er = []\n",
    "    for i in range(max_step):\n",
    "        grad = gradient(x,y,theta)\n",
    "        e = error(x,y,theta)\n",
    "        er.append(e)\n",
    "        theta[0] = theta[0] - lr*grad[0]\n",
    "        theta[1] = theta[1] - lr*grad[1]\n",
    "    return theta, er"
   ]
  },
  {
   "cell_type": "code",
   "execution_count": 5,
   "id": "bf37bd67",
   "metadata": {},
   "outputs": [],
   "source": [
    "x,y = df['Hours'],df['Scores']"
   ]
  },
  {
   "cell_type": "markdown",
   "id": "2ebdd7e0",
   "metadata": {},
   "source": [
    "##### Converting into numpy array.\n"
   ]
  },
  {
   "cell_type": "code",
   "execution_count": 6,
   "id": "77daacb2",
   "metadata": {},
   "outputs": [],
   "source": [
    "x = x.values\n",
    "y = y.values"
   ]
  },
  {
   "cell_type": "markdown",
   "id": "b2eb6a47",
   "metadata": {},
   "source": [
    "##### Normalising the data."
   ]
  },
  {
   "cell_type": "code",
   "execution_count": 7,
   "id": "0d4197e2",
   "metadata": {},
   "outputs": [],
   "source": [
    "x1 = (x - x.mean())/x.std()"
   ]
  },
  {
   "cell_type": "markdown",
   "id": "95e00512",
   "metadata": {},
   "source": [
    "##### Splitting the dataset."
   ]
  },
  {
   "cell_type": "code",
   "execution_count": 8,
   "id": "1c6a842a",
   "metadata": {},
   "outputs": [],
   "source": [
    "split = int(0.8*x1.shape[0])"
   ]
  },
  {
   "cell_type": "code",
   "execution_count": 9,
   "id": "0d589d33",
   "metadata": {},
   "outputs": [],
   "source": [
    "x_train = x1[:split]\n",
    "x_test = x1[split:]\n",
    "y_train = y[:split]\n",
    "y_test =y[split:]"
   ]
  },
  {
   "cell_type": "code",
   "execution_count": 10,
   "id": "1cfeaddb",
   "metadata": {},
   "outputs": [
    {
     "name": "stdout",
     "output_type": "stream",
     "text": [
      "(20,) (5,)\n",
      "(20,) (5,)\n"
     ]
    }
   ],
   "source": [
    "print(x_train.shape,x_test.shape)\n",
    "print(y_train.shape,y_test.shape)"
   ]
  },
  {
   "cell_type": "markdown",
   "id": "4c97fb95",
   "metadata": {},
   "source": [
    "##### Reshaping:\n",
    "    x_train, x_test, y_train, y_test "
   ]
  },
  {
   "cell_type": "code",
   "execution_count": 11,
   "id": "916a627e",
   "metadata": {},
   "outputs": [],
   "source": [
    "x_train = x_train.reshape((20,1))\n",
    "y_train = y_train.reshape((20,1))\n",
    "x_test = x_test.reshape((5,1))\n",
    "y_test = y_test.reshape((5,1))"
   ]
  },
  {
   "cell_type": "code",
   "execution_count": 12,
   "id": "1cad8c72",
   "metadata": {},
   "outputs": [],
   "source": [
    "theta,error = gradientDecent(x_train,y_train)"
   ]
  },
  {
   "cell_type": "code",
   "execution_count": 13,
   "id": "b2f1c185",
   "metadata": {},
   "outputs": [
    {
     "name": "stdout",
     "output_type": "stream",
     "text": [
      "[50.74600888 23.55378545]\n"
     ]
    }
   ],
   "source": [
    "print(theta)"
   ]
  },
  {
   "cell_type": "markdown",
   "id": "e1142d5b",
   "metadata": {},
   "source": [
    "##### Plotting error.\n",
    "Here we can clearly see that the error is reduced.\n"
   ]
  },
  {
   "cell_type": "code",
   "execution_count": 14,
   "id": "da8400f9",
   "metadata": {},
   "outputs": [
    {
     "data": {
      "text/plain": [
       "[<matplotlib.lines.Line2D at 0x7fc6bbe8a3d0>]"
      ]
     },
     "execution_count": 14,
     "metadata": {},
     "output_type": "execute_result"
    },
    {
     "data": {
      "image/png": "[encoded data removed]",
      "text/plain": [
       "<Figure size 576x396 with 1 Axes>"
      ]
     },
     "metadata": {},
     "output_type": "display_data"
    }
   ],
   "source": [
    "plt.plot(error)"
   ]
  },
  {
   "cell_type": "markdown",
   "id": "180ffa56",
   "metadata": {},
   "source": [
    "##### Predictions"
   ]
  },
  {
   "cell_type": "code",
   "execution_count": 15,
   "id": "4c2491c2",
   "metadata": {},
   "outputs": [
    {
     "name": "stdout",
     "output_type": "stream",
     "text": [
      "[[26.83118573]\n",
      " [51.5837893 ]\n",
      " [33.49534823]\n",
      " [83.95257859]\n",
      " [36.35141788]\n",
      " [17.31095359]\n",
      " [90.61674109]\n",
      " [55.39188216]\n",
      " [82.04853216]\n",
      " [28.73523216]\n",
      " [76.33639288]\n",
      " [59.19997502]\n",
      " [45.87165002]\n",
      " [34.44737145]\n",
      " [13.50286073]\n",
      " [87.76067145]\n",
      " [26.83118573]\n",
      " [21.11904645]\n",
      " [61.10402145]\n",
      " [73.48032323]]\n"
     ]
    }
   ],
   "source": [
    "y_ = hypothesis(x_train,theta)\n",
    "print(y_)"
   ]
  },
  {
   "cell_type": "markdown",
   "id": "9da88745",
   "metadata": {},
   "source": [
    "##### Plotting the best fit line."
   ]
  },
  {
   "cell_type": "code",
   "execution_count": 16,
   "id": "b7546efa",
   "metadata": {},
   "outputs": [
    {
     "data": {
      "text/plain": [
       "[<matplotlib.lines.Line2D at 0x7fc6bbfd2cd0>]"
      ]
     },
     "execution_count": 16,
     "metadata": {},
     "output_type": "execute_result"
    },
    {
     "data": {
      "image/png": "[encoded data removed]",
      "text/plain": [
       "<Figure size 576x396 with 1 Axes>"
      ]
     },
     "metadata": {},
     "output_type": "display_data"
    }
   ],
   "source": [
    "plt.scatter(x_train,y_train)\n",
    "plt.plot(x_train,y_)"
   ]
  },
  {
   "cell_type": "markdown",
   "id": "44f3b689",
   "metadata": {},
   "source": [
    "##### Calculating R2 score - accuracy"
   ]
  },
  {
   "cell_type": "code",
   "execution_count": 17,
   "id": "958934fe",
   "metadata": {},
   "outputs": [
    {
     "data": {
      "text/plain": [
       "95.54562415814351"
      ]
     },
     "execution_count": 17,
     "metadata": {},
     "output_type": "execute_result"
    }
   ],
   "source": [
    "def r2_score(y,y_):\n",
    "    # numerator\n",
    "    num=np.sum((y-y_)**2)\n",
    "    # denomenator\n",
    "    denom=np.sum((y-y.mean())**2)\n",
    "    # score\n",
    "    score=1-num/denom\n",
    "    return score*100\n",
    "\n",
    "r2_score(y_train,y_)"
   ]
  },
  {
   "cell_type": "code",
   "execution_count": 18,
   "id": "378485b9",
   "metadata": {},
   "outputs": [
    {
     "name": "stdout",
     "output_type": "stream",
     "text": [
      "[[28.73523216]\n",
      " [48.72771966]\n",
      " [39.20748752]\n",
      " [68.72020716]\n",
      " [77.28841609]]\n"
     ]
    }
   ],
   "source": [
    "y_pred = hypothesis(x_test,theta)\n",
    "print(y_pred)"
   ]
  },
  {
   "cell_type": "code",
   "execution_count": 24,
   "id": "f1743364",
   "metadata": {},
   "outputs": [],
   "source": [
    "df=pd.DataFrame(y_test,columns=['Actual'])\n",
    "df['Predicted']=y_pred"
   ]
  },
  {
   "cell_type": "code",
   "execution_count": 25,
   "id": "c49a7e67",
   "metadata": {},
   "outputs": [
    {
     "data": {
      "text/html": [
       "<div>\n",
       "<style scoped>\n",
       "    .dataframe tbody tr th:only-of-type {\n",
       "        vertical-align: middle;\n",
       "    }\n",
       "\n",
       "    .dataframe tbody tr th {\n",
       "        vertical-align: top;\n",
       "    }\n",
       "\n",
       "    .dataframe thead th {\n",
       "        text-align: right;\n",
       "    }\n",
       "</style>\n",
       "<table border=\"1\" class=\"dataframe\">\n",
       "  <thead>\n",
       "    <tr style=\"text-align: right;\">\n",
       "      <th></th>\n",
       "      <th>Actual</th>\n",
       "      <th>Predicted</th>\n",
       "    </tr>\n",
       "  </thead>\n",
       "  <tbody>\n",
       "    <tr>\n",
       "      <th>0</th>\n",
       "      <td>30</td>\n",
       "      <td>28.735232</td>\n",
       "    </tr>\n",
       "    <tr>\n",
       "      <th>1</th>\n",
       "      <td>54</td>\n",
       "      <td>48.727720</td>\n",
       "    </tr>\n",
       "    <tr>\n",
       "      <th>2</th>\n",
       "      <td>35</td>\n",
       "      <td>39.207488</td>\n",
       "    </tr>\n",
       "    <tr>\n",
       "      <th>3</th>\n",
       "      <td>76</td>\n",
       "      <td>68.720207</td>\n",
       "    </tr>\n",
       "    <tr>\n",
       "      <th>4</th>\n",
       "      <td>86</td>\n",
       "      <td>77.288416</td>\n",
       "    </tr>\n",
       "  </tbody>\n",
       "</table>\n",
       "</div>"
      ],
      "text/plain": [
       "   Actual  Predicted\n",
       "0      30  28.735232\n",
       "1      54  48.727720\n",
       "2      35  39.207488\n",
       "3      76  68.720207\n",
       "4      86  77.288416"
      ]
     },
     "execution_count": 25,
     "metadata": {},
     "output_type": "execute_result"
    }
   ],
   "source": [
    "df"
   ]
  },
  {
   "cell_type": "markdown",
   "id": "ba03e798",
   "metadata": {},
   "source": [
    "##### Training our own data."
   ]
  },
  {
   "cell_type": "code",
   "execution_count": 28,
   "id": "ac7678e2",
   "metadata": {},
   "outputs": [
    {
     "name": "stdout",
     "output_type": "stream",
     "text": [
      "Enter number of hours per day? 9.25\n",
      "No of hours :  9.25 hrs/day\n",
      "Predicted Percentage : 91.09\n"
     ]
    }
   ],
   "source": [
    "h = float(input('Enter number of hours per day? '))\n",
    "print('No of hours : ', h,'hrs/day')\n",
    "\n",
    "# normalising hour\n",
    "h=(h-x.mean())/x.std()\n",
    "y_=hypothesis(h,theta)\n",
    "\n",
    "print('Predicted Percentage : %.2f'%y_)"
   ]
  },
  {
   "cell_type": "markdown",
   "id": "f253cc63",
   "metadata": {},
   "source": [
    "## Conclusion: \n",
    "#### The predicted score of the student is 92.4 if the student studies for 9.25 hrs/day."
   ]
  }
 ],
 "metadata": {
  "kernelspec": {
   "display_name": "Python 3 (ipykernel)",
   "language": "python",
   "name": "python3"
  },
  "language_info": {
   "codemirror_mode": {
    "name": "ipython",
    "version": 3
   },
   "file_extension": ".py",
   "mimetype": "text/x-python",
   "name": "python",
   "nbconvert_exporter": "python",
   "pygments_lexer": "ipython3",
   "version": "3.9.12"
  }
 },
 "nbformat": 4,
 "nbformat_minor": 5
}
